{
 "cells": [
  {
   "cell_type": "code",
   "execution_count": null,
   "metadata": {},
   "outputs": [],
   "source": [
    "def filter_failed_log(failed_log_file):\n",
    "    # Define the prefix to filter links\n",
    "    prefix = \"https://groups.io/g/Emco-CNC-Users/files\"\n",
    "\n",
    "    # Read the failed log file and filter out invalid links\n",
    "    with open(failed_log_file, 'r', encoding='utf-8') as file:\n",
    "        links = file.readlines()\n",
    "\n",
    "    # Filter links that do not start with the specified prefix\n",
    "    filtered_links = [link for link in links if link.strip().startswith(prefix)]\n",
    "\n",
    "    # Write the filtered links back to the file\n",
    "    with open(failed_log_file, 'w', encoding='utf-8') as file:\n",
    "        file.writelines(filtered_links)\n",
    "\n",
    "    print(f\"Filtered failed links. Remaining links are written back to {failed_log_file}\")\n",
    "\n",
    "# Path to the failed log file\n",
    "failed_log_file_path = 'failed_log.txt'\n",
    "\n",
    "# Filter the log file\n",
    "filter_failed_log(failed_log_file_path)\n"
   ]
  },
  {
   "cell_type": "code",
   "execution_count": 1,
   "metadata": {},
   "outputs": [
    {
     "name": "stdout",
     "output_type": "stream",
     "text": [
      "Links have been filtered and updated in all_links.txt\n"
     ]
    }
   ],
   "source": [
    "import os\n",
    "\n",
    "def get_existing_files(directory):\n",
    "    \"\"\"Get a set of filenames (without paths) in the directory.\"\"\"\n",
    "    existing_files = set()\n",
    "    for root, dirs, files in os.walk(directory):\n",
    "        for file in files:\n",
    "            existing_files.add(file)\n",
    "    return existing_files\n",
    "\n",
    "def filter_existing_links(links_file, directory):\n",
    "    \"\"\"Filter out links corresponding to existing files in the directory.\"\"\"\n",
    "    existing_files = get_existing_files(directory)\n",
    "\n",
    "    with open(links_file, 'r', encoding='utf-8') as file:\n",
    "        links = file.readlines()\n",
    "\n",
    "    filtered_links = []\n",
    "    for link in links:\n",
    "        link = link.strip()\n",
    "        if link:  # Ensure the link is not empty\n",
    "            filename = os.path.basename(link)\n",
    "            if filename not in existing_files:\n",
    "                filtered_links.append(link)\n",
    "\n",
    "    with open(links_file, 'w', encoding='utf-8') as file:\n",
    "        for link in filtered_links:\n",
    "            file.write(f\"{link}\\n\")\n",
    "\n",
    "    print(f\"Links have been filtered and updated in {links_file}\")\n",
    "\n",
    "# Main script\n",
    "current_directory = os.getcwd()\n",
    "links_file_path = 'all_links.txt'\n",
    "\n",
    "# Filter existing links from the list\n",
    "filter_existing_links(links_file_path, current_directory)\n"
   ]
  }
 ],
 "metadata": {
  "kernelspec": {
   "display_name": "Python 3",
   "language": "python",
   "name": "python3"
  },
  "language_info": {
   "codemirror_mode": {
    "name": "ipython",
    "version": 3
   },
   "file_extension": ".py",
   "mimetype": "text/x-python",
   "name": "python",
   "nbconvert_exporter": "python",
   "pygments_lexer": "ipython3",
   "version": "3.12.3"
  }
 },
 "nbformat": 4,
 "nbformat_minor": 2
}
